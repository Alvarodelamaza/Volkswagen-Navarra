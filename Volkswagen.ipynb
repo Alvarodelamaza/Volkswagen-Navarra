{
 "cells": [
  {
   "cell_type": "markdown",
   "id": "0c675d76",
   "metadata": {},
   "source": [
    "# Volkswagen Navarra"
   ]
  },
  {
   "cell_type": "code",
   "execution_count": 19,
   "id": "6c320a31",
   "metadata": {},
   "outputs": [],
   "source": [
    "import pandas as pd\n",
    "import numpy as np\n",
    "from collections import Counter\n",
    "import matplotlib.pyplot as plt\n",
    "import seaborn as sns"
   ]
  },
  {
   "cell_type": "markdown",
   "id": "421c7294",
   "metadata": {},
   "source": [
    "## Costes iniciales"
   ]
  },
  {
   "cell_type": "code",
   "execution_count": 1022,
   "id": "b547f5b4",
   "metadata": {},
   "outputs": [
    {
     "data": {
      "text/plain": [
       "104.3115438108484"
      ]
     },
     "execution_count": 1022,
     "metadata": {},
     "output_type": "execute_result"
    }
   ],
   "source": [
    "dias_año=300000/1438\n",
    "dias_año/2"
   ]
  },
  {
   "cell_type": "code",
   "execution_count": 24,
   "id": "4c192586",
   "metadata": {},
   "outputs": [],
   "source": [
    "purgas=140140\n",
    "cambio_color=1262183\n",
    "#spot_repair=47293\n",
    "mantenimiento_cabina=(26646*4)+35550+35550+38524+32577+38524+26646+38524+29603"
   ]
  },
  {
   "cell_type": "code",
   "execution_count": 25,
   "id": "e10b9bea",
   "metadata": {},
   "outputs": [
    {
     "data": {
      "text/plain": [
       "1784405"
      ]
     },
     "execution_count": 25,
     "metadata": {},
     "output_type": "execute_result"
    }
   ],
   "source": [
    "coste_anual=purgas+cambio_color+mantenimiento_cabina\n",
    "coste_anual"
   ]
  },
  {
   "cell_type": "code",
   "execution_count": 26,
   "id": "23556898",
   "metadata": {},
   "outputs": [
    {
     "data": {
      "text/plain": [
       "11610.743846153848"
      ]
     },
     "execution_count": 26,
     "metadata": {},
     "output_type": "execute_result"
    }
   ],
   "source": [
    "coste_diario=coste_anual/dias_año\n",
    "coste_diario"
   ]
  },
  {
   "cell_type": "markdown",
   "id": "794bb30b",
   "metadata": {},
   "source": [
    "## Creacion vector inicial"
   ]
  },
  {
   "cell_type": "code",
   "execution_count": 47,
   "id": "d9f27058",
   "metadata": {},
   "outputs": [],
   "source": [
    "n2a=pd.read_excel('N2A.xlsx')\n",
    "n2b=pd.read_excel('N2B.xls')"
   ]
  },
  {
   "cell_type": "code",
   "execution_count": 48,
   "id": "f17362fd",
   "metadata": {},
   "outputs": [
    {
     "data": {
      "text/plain": [
       "8E    315\n",
       "0A    287\n",
       "0Q    276\n",
       "2T    202\n",
       "P8     82\n",
       "4M     67\n",
       "0Z     46\n",
       "W9     39\n",
       "6U     17\n",
       "5W      2\n",
       "Name: Dato MDS nº1, dtype: int64"
      ]
     },
     "execution_count": 48,
     "metadata": {},
     "output_type": "execute_result"
    }
   ],
   "source": [
    "n2a['Dato MDS nº1'].value_counts()"
   ]
  },
  {
   "cell_type": "code",
   "execution_count": 49,
   "id": "0298f040",
   "metadata": {},
   "outputs": [
    {
     "data": {
      "text/plain": [
       "5W    528\n",
       "6U    360\n",
       "0Q    354\n",
       "2T    277\n",
       "0A      6\n",
       "P8      3\n",
       "8E      2\n",
       "W9      1\n",
       "Name: Dato MDS nº1, dtype: int64"
      ]
     },
     "execution_count": 49,
     "metadata": {},
     "output_type": "execute_result"
    }
   ],
   "source": [
    "n2b['Dato MDS nº1'].value_counts()"
   ]
  },
  {
   "cell_type": "code",
   "execution_count": 947,
   "id": "a96cfbde",
   "metadata": {},
   "outputs": [],
   "source": [
    "color=[]\n",
    "carrocerias=[]"
   ]
  },
  {
   "cell_type": "code",
   "execution_count": 971,
   "id": "9a4f45f9",
   "metadata": {},
   "outputs": [
    {
     "name": "stdout",
     "output_type": "stream",
     "text": [
      "2856\n"
     ]
    }
   ],
   "source": [
    "for nu in range(num):\n",
    "    carrocerias.append('7231')\n",
    "print(len(carrocerias))\n"
   ]
  },
  {
   "cell_type": "code",
   "execution_count": 994,
   "id": "f025237a",
   "metadata": {},
   "outputs": [
    {
     "name": "stdout",
     "output_type": "stream",
     "text": [
      "2854\n"
     ]
    }
   ],
   "source": [
    "for nu in range(num):\n",
    "    color.append('P8')\n",
    "print(len(color))"
   ]
  },
  {
   "cell_type": "code",
   "execution_count": 1135,
   "id": "44aa5316",
   "metadata": {},
   "outputs": [],
   "source": [
    "color=np.array(color)\n",
    "color=color.T\n",
    "carrocerias=np.array(carrocerias).T\n",
    "carrocerias=carrocerias.reshape(2860,)\n",
    "color=color.reshape(2860,)"
   ]
  },
  {
   "cell_type": "code",
   "execution_count": 1136,
   "id": "813366f6",
   "metadata": {},
   "outputs": [],
   "source": [
    "entrada=pd.DataFrame()"
   ]
  },
  {
   "cell_type": "code",
   "execution_count": 1137,
   "id": "015dcf71",
   "metadata": {},
   "outputs": [],
   "source": [
    "entrada['color']=color\n",
    "entrada['carro']=carrocerias"
   ]
  },
  {
   "cell_type": "code",
   "execution_count": 1138,
   "id": "6ca0d7c7",
   "metadata": {},
   "outputs": [
    {
     "data": {
      "text/html": [
       "<div>\n",
       "<style scoped>\n",
       "    .dataframe tbody tr th:only-of-type {\n",
       "        vertical-align: middle;\n",
       "    }\n",
       "\n",
       "    .dataframe tbody tr th {\n",
       "        vertical-align: top;\n",
       "    }\n",
       "\n",
       "    .dataframe thead th {\n",
       "        text-align: right;\n",
       "    }\n",
       "</style>\n",
       "<table border=\"1\" class=\"dataframe\">\n",
       "  <thead>\n",
       "    <tr style=\"text-align: right;\">\n",
       "      <th></th>\n",
       "      <th>color</th>\n",
       "      <th>carro</th>\n",
       "    </tr>\n",
       "  </thead>\n",
       "  <tbody>\n",
       "    <tr>\n",
       "      <th>0</th>\n",
       "      <td>2T</td>\n",
       "      <td>3111</td>\n",
       "    </tr>\n",
       "    <tr>\n",
       "      <th>1</th>\n",
       "      <td>2T</td>\n",
       "      <td>3111</td>\n",
       "    </tr>\n",
       "    <tr>\n",
       "      <th>2</th>\n",
       "      <td>2T</td>\n",
       "      <td>3111</td>\n",
       "    </tr>\n",
       "    <tr>\n",
       "      <th>3</th>\n",
       "      <td>2T</td>\n",
       "      <td>3111</td>\n",
       "    </tr>\n",
       "    <tr>\n",
       "      <th>4</th>\n",
       "      <td>2T</td>\n",
       "      <td>3111</td>\n",
       "    </tr>\n",
       "    <tr>\n",
       "      <th>...</th>\n",
       "      <td>...</td>\n",
       "      <td>...</td>\n",
       "    </tr>\n",
       "    <tr>\n",
       "      <th>2855</th>\n",
       "      <td>2T</td>\n",
       "      <td>7231</td>\n",
       "    </tr>\n",
       "    <tr>\n",
       "      <th>2856</th>\n",
       "      <td>5W</td>\n",
       "      <td>6121</td>\n",
       "    </tr>\n",
       "    <tr>\n",
       "      <th>2857</th>\n",
       "      <td>0A</td>\n",
       "      <td>6221</td>\n",
       "    </tr>\n",
       "    <tr>\n",
       "      <th>2858</th>\n",
       "      <td>0Q</td>\n",
       "      <td>3111</td>\n",
       "    </tr>\n",
       "    <tr>\n",
       "      <th>2859</th>\n",
       "      <td>2T</td>\n",
       "      <td>7121</td>\n",
       "    </tr>\n",
       "  </tbody>\n",
       "</table>\n",
       "<p>2860 rows × 2 columns</p>\n",
       "</div>"
      ],
      "text/plain": [
       "     color carro\n",
       "0       2T  3111\n",
       "1       2T  3111\n",
       "2       2T  3111\n",
       "3       2T  3111\n",
       "4       2T  3111\n",
       "...    ...   ...\n",
       "2855    2T  7231\n",
       "2856    5W  6121\n",
       "2857    0A  6221\n",
       "2858    0Q  3111\n",
       "2859    2T  7121\n",
       "\n",
       "[2860 rows x 2 columns]"
      ]
     },
     "execution_count": 1138,
     "metadata": {},
     "output_type": "execute_result"
    }
   ],
   "source": [
    "entrada"
   ]
  },
  {
   "cell_type": "code",
   "execution_count": 1118,
   "id": "6ce132b5",
   "metadata": {},
   "outputs": [],
   "source": [
    "l_a=['0Q','2T','0A','0Z','P8','W9','4M','8E']\n",
    "l_b=['0Q','2T','5W','6U']\n",
    "\n",
    "l_as=['0A','0Z','P8','W9','4M','8E']\n",
    "l_bs=['5W','6U']\n",
    "l_bn=['0Q','2T']\n",
    "valores=[i for i in range(180)]\n",
    "linea_a=[]\n",
    "cambio=[]\n",
    "#entra2.shape[0]>0"
   ]
  },
  {
   "cell_type": "markdown",
   "id": "2ef86807",
   "metadata": {
    "heading_collapsed": true
   },
   "source": [
    "## Simulacion\n"
   ]
  },
  {
   "cell_type": "code",
   "execution_count": 1183,
   "id": "25c7fb97",
   "metadata": {
    "hidden": true,
    "scrolled": true
   },
   "outputs": [],
   "source": [
    "\n",
    "def simulacion(l_as,l_bs,ramal):\n",
    "    inicial=int(256*0.4)\n",
    "    primera=0\n",
    "    lin_a=[]\n",
    "    lin_b=[]\n",
    "    entra2=ramal\n",
    "    cambio=[]\n",
    "    cambio_color={'8E': 0, '0Z': 0, '0A': 0, 'P8': 0, '4M': 0, 'W9': 0, '2T': 0, '0Q': 0,'5W': 0, '6U': 0}\n",
    "    new=True\n",
    "    stop=True\n",
    "    ult_a=True\n",
    "    while(stop):\n",
    "        if primera==0:\n",
    "            mirada=entra2.iloc[:inicial]\n",
    "            #print(mirada)\n",
    "            primera=1\n",
    "        else:\n",
    "            if entra2.shape[0]>1: \n",
    "                mirada=entra2.iloc[[0,1]]\n",
    "            else:\n",
    "                #print(lin_a.shape)\n",
    "                new=False\n",
    "            #print(mirada)\n",
    "        if new:\n",
    "            entra2=entra2.drop(range(mirada.shape[0])).reset_index().drop(columns='index')\n",
    "            lin_an=[mirada.iloc[i] for i in range(mirada.shape[0]) if mirada.iloc[i]['color'] in l_as ]\n",
    "\n",
    "            if primera==1:\n",
    "                lin_a.extend(lin_an)\n",
    "            else:\n",
    "                lin_a=lin_a.append(lin_an).reset_index().drop(columns=['index'])\n",
    "\n",
    "            inde=[i for i in range(mirada.shape[0]) if mirada.iloc[i]['color'] in l_as ]\n",
    "            mirada2=mirada.drop(inde).reset_index().drop(columns=['index'])\n",
    "\n",
    "            lin_bn=[mirada2.iloc[i] for i in range(mirada2.shape[0]) if mirada2.iloc[i]['color'] in l_bs ]\n",
    "            if primera==1:\n",
    "                lin_b.extend(lin_bn)\n",
    "            else:\n",
    "                lin_b=lin_b.append(lin_bn).reset_index().drop(columns=['index'])\n",
    "            inde2=[i for i in range(mirada2.shape[0]) if mirada2.iloc[i]['color'] in l_bs ]\n",
    "            mirada3=mirada2.drop(inde2).reset_index().drop(columns=['index'])\n",
    "            # Añadimos los blancos y negros\n",
    "            if primera==1:\n",
    "                lin_a.extend([mirada3.iloc[i] for i in range(int((mirada3.shape[0]/2))) ])\n",
    "                lin_b.extend([mirada3.iloc[int((mirada3.shape[0]/2))+i] for i in range(int(mirada3.shape[0]/2)+mirada3.shape[0]%2)])\n",
    "            else:\n",
    "                if ult_a :\n",
    "                    lin_a=lin_a.append([mirada3.iloc[i] for i in range(int((mirada3.shape[0]/2))) ])\n",
    "                    lin_b=lin_b.append([mirada3.iloc[int((mirada3.shape[0]/2))+i] for i in range(int(mirada3.shape[0]/2)+mirada3.shape[0]%2)])\n",
    "                    ult_a=False\n",
    "                else :\n",
    "                    lin_b=lin_b.append([mirada3.iloc[i] for i in range(int((mirada3.shape[0]/2))) ])\n",
    "                    lin_a=lin_a.append([mirada3.iloc[int((mirada3.shape[0]/2))+i] for i in range(int(mirada3.shape[0]/2)+mirada3.shape[0]%2)])\n",
    "                    ult_a=True\n",
    "\n",
    "        # Los mayores los mandamos a la sala de pintura y actualizamos inventario\n",
    "        if primera==1:\n",
    "            inventario_a=dict(Counter(np.array(lin_a)[:,0]))\n",
    "            inventario_b=dict(Counter(np.array(lin_b)[:,0]))\n",
    "            siguiente_a=max(inventario_a, key=inventario_a.get)\n",
    "            siguiente_b=max(inventario_b, key=inventario_b.get)\n",
    "            lin_a=pd.DataFrame(lin_a).reset_index().drop(columns=['index'])\n",
    "            lin_b=pd.DataFrame(lin_b).reset_index().drop(columns=['index'])\n",
    "        else:\n",
    "            lin_b=lin_b.reset_index().drop(columns=['index'])\n",
    "            lin_a=lin_a.reset_index().drop(columns=['index'])\n",
    "            if len(lin_an)>0:\n",
    "                if len(lin_an)==1:\n",
    "                    inventario_a[lin_an[0][0]]+=1\n",
    "                    if not(ult_a) and mirada3.shape[0]!=0:\n",
    "                        if mirada3.shape[0]==2:\n",
    "                            inventario_a[mirada3[0]['color']]+=1\n",
    "                            inventario_b[mirada3[1]['color']]+=1\n",
    "                        else:\n",
    "                            inventario_a[mirada3['color'][0]]+=1\n",
    "                else:\n",
    "                    inventario_a[lin_an[0][0]]+=1\n",
    "                    inventario_a[lin_an[1][0]]+=1\n",
    "            if len(lin_bn)>0:\n",
    "                if len(lin_bn)==1:\n",
    "                    inventario_b[lin_bn[0][0]]+=1\n",
    "                    if ult_a and mirada3.shape[0]!=0:\n",
    "                        if mirada3.shape[0]==2:\n",
    "                            inventario_b[mirada3[0]['color']]+=1\n",
    "                            inventario_a[mirada3[1]['color']]+=1\n",
    "                        else:\n",
    "                            inventario_b[mirada3['color'][0]]+=1\n",
    "\n",
    "                else:\n",
    "                    inventario_b[lin_bn[0][0]]+=1\n",
    "                    inventario_b[lin_bn[1][0]]+=1\n",
    "\n",
    "\n",
    "        if inventario_a[siguiente_a]==0 and primera!=1:\n",
    "            siguiente_a=max(inventario_a, key=inventario_a.get)\n",
    "        if inventario_b[siguiente_b]==0 and primera!=1:\n",
    "            siguiente_b=max(inventario_b, key=inventario_b.get)\n",
    "        #fuera_a=inventario_a[siguiente_a]\n",
    "\n",
    "        for i in range(lin_a.shape[0]):\n",
    "            if lin_a.iloc[i]['color']==siguiente_a:\n",
    "                lin_a=lin_a.drop(i).reset_index().drop(columns=['index'])\n",
    "                break\n",
    "        for i in range(lin_b.shape[0]):\n",
    "            if lin_b.iloc[i]['color']==siguiente_b:\n",
    "                lin_b=lin_b.drop(i).reset_index().drop(columns=['index'])\n",
    "                break\n",
    "\n",
    "        inventario_a[siguiente_a]-=1\n",
    "        inventario_b[siguiente_b]-=1\n",
    "\n",
    "        #fuera_b=inventario_b[siguiente_b]\n",
    "        #lin_b=[lin_b[i] for i in range(len(lin_b)) if lin_b[i]['color']!=siguiente_b ]\n",
    "\n",
    "        if primera==1:\n",
    "            #print('primera')\n",
    "            siguiente_a_a=siguiente_a\n",
    "            siguiente_b_a=siguiente_b\n",
    "            primera=2\n",
    "\n",
    "        if siguiente_a!=siguiente_a_a:\n",
    "            cambio_color[siguiente_a_a]+=1\n",
    "            siguiente_a_a=siguiente_a\n",
    "            #print('cambio')\n",
    "        if siguiente_b!=siguiente_b_a:\n",
    "            cambio_color[siguiente_b_a]+=1\n",
    "            siguiente_b_a=siguiente_b\n",
    "            #print('cambio')\n",
    "\n",
    "        cambio.append(siguiente_a)\n",
    "        cambio.append(siguiente_b)\n",
    "        #print(inventario_a)\n",
    "        if (sum(inventario_a.values())==0) or (sum(inventario_b.values())==0):\n",
    "            stop=False\n",
    "    return cambio_color\n",
    "    \n",
    "    \n",
    "\n",
    "    \n",
    "    "
   ]
  },
  {
   "cell_type": "markdown",
   "id": "23eb688c",
   "metadata": {
    "heading_collapsed": true
   },
   "source": [
    "## Costes"
   ]
  },
  {
   "cell_type": "code",
   "execution_count": 1180,
   "id": "9ebfbd17",
   "metadata": {
    "hidden": true
   },
   "outputs": [],
   "source": [
    "def coste_totales(cambios,l_as,l_bs,l_c):\n",
    "    coste=0\n",
    "    coste_man=0\n",
    "    costes_cambio={'8E': 13.5, '0Z': 21.1, '0A': 26.7, 'P8': 66.9, '4M': 35.7, 'W9': 31.6, '2T': 9.2, '0Q': 10.2,'5W': 24.6, '6U': 16}\n",
    "    costes_purga={'8E': 9950, '0Z': 19960, '0A': 3988, 'P8': 63210, '4M': 33765, 'W9': 29897, '2T': 5777, '0Q': 6416,'5W': 23245, '6U': 10072}\n",
    "    costes_mantenimiento={'8E': 35550, '0Z': 32577, '0A': 35550, 'P8': 38524, '4M': 38524, 'W9': 29603, '2T': 26646, '0Q': 26646,'5W': 38524, '6U': 26646}\n",
    "    costes_fijos=22174\n",
    "\n",
    "    for color,valor in cambios.items():\n",
    "        coste_parcial=costes_cambio[color]*valor\n",
    "        coste+=coste_parcial\n",
    "    coste_anual=coste*208\n",
    "    for color in l_as:\n",
    "        coste_man+=(costes_mantenimiento[color]+costes_purga[color])\n",
    "    for color in l_bs:\n",
    "        coste_man+=(costes_mantenimiento[color]+costes_purga[color])\n",
    "    for color in l_c:\n",
    "        coste_man+=(costes_mantenimiento[color]+costes_purga[color])*2\n",
    "    l_a=['0A','0Z','P8','W9','4M','8E']\n",
    "    l_b=['5W','6U']\n",
    "    l_cc=['2T','0Q']\n",
    "\n",
    "\n",
    "\n",
    "    list_difference = list(set(l_as).difference(set(l_a)).union(set(l_bs).difference(set(l_b))))\n",
    "    list_difference=[num for num in list_difference if num not in l_cc]\n",
    "    coste_taller=len(list_difference)*22174\n",
    "    \n",
    "\n",
    "    return coste_anual+coste_man+coste_taller\n",
    "    "
   ]
  },
  {
   "cell_type": "code",
   "execution_count": 1172,
   "id": "96225425",
   "metadata": {
    "hidden": true
   },
   "outputs": [],
   "source": [
    "def gen_random(entrada):\n",
    "    c=entrada['carro'].sample(frac=0.5)\n",
    "    co=entrada['color'].sample(frac=0.5)\n",
    "    entra=pd.DataFrame()\n",
    "    entra['color']=co\n",
    "    entra['carro']=c\n",
    "    entra=entra.reset_index().drop(columns=['index'])\n",
    "    return entra"
   ]
  }
 ],
 "metadata": {
  "kernelspec": {
   "display_name": "Python 3 (ipykernel)",
   "language": "python",
   "name": "python3"
  },
  "language_info": {
   "codemirror_mode": {
    "name": "ipython",
    "version": 3
   },
   "file_extension": ".py",
   "mimetype": "text/x-python",
   "name": "python",
   "nbconvert_exporter": "python",
   "pygments_lexer": "ipython3",
   "version": "3.8.12"
  },
  "toc": {
   "base_numbering": 1,
   "nav_menu": {},
   "number_sections": true,
   "sideBar": true,
   "skip_h1_title": false,
   "title_cell": "Table of Contents",
   "title_sidebar": "Contents",
   "toc_cell": false,
   "toc_position": {},
   "toc_section_display": true,
   "toc_window_display": false
  }
 },
 "nbformat": 4,
 "nbformat_minor": 5
}
